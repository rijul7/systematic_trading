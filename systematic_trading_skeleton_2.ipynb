{
 "cells": [
  {
   "cell_type": "markdown",
   "metadata": {
    "id": "lNCZ6ytKlCQ0"
   },
   "source": [
    "# Systematic Trading Skeleton Code\n",
    "\n",
    "The code below install all required packages and then reads inthe list of tickers from wikipedia to then pull the data for the current S&P 500 from yahoo finance.\n",
    "\n",
    "The DataFrame produced also needs to be cleaned due to the large number of NaN values stored inside and it is up to you to decide exactly how to do this. \n",
    "\n",
    "A lot of these NaN values arise because the stock price data for a specific company is not stored on Yahoo finance before a certain date. This could be for multiple reasons. \n",
    "\n",
    "The code has been set to remove all dates with NaN values although this only gives approx 6 mounths of data for backtesting. If you want to use more dates for backtesting then this will need to be changed.\n",
    "\n"
   ]
  },
  {
   "cell_type": "code",
   "execution_count": 1,
   "metadata": {
    "id": "foSHpDXdE85S"
   },
   "outputs": [],
   "source": [
    "import numpy as np\n",
    "import requests\n",
    "import pandas as pd\n",
    "import yfinance as yf\n",
    "import matplotlib.pyplot as plt\n",
    "from datetime import datetime\n",
    "import seaborn as sns"
   ]
  },
  {
   "cell_type": "code",
   "execution_count": 2,
   "metadata": {
    "colab": {
     "base_uri": "https://localhost:8080/"
    },
    "id": "HxZCrlsXO9eV",
    "outputId": "ce2e80b1-56c3-4623-aea2-cb1ee70a847d"
   },
   "outputs": [
    {
     "name": "stdout",
     "output_type": "stream",
     "text": [
      "[*********************100%%**********************]  503 of 503 completed\n"
     ]
    }
   ],
   "source": [
    "tickers = list(pd.read_html(\"https://en.wikipedia.org/wiki/List_of_S%26P_500_companies\")[0][\"Symbol\"].dropna())\n",
    "\n",
    "for i in range(len(tickers)):\n",
    "  tickers[i] = tickers[i].replace(\".\",\"-\")\n",
    "# feel free to change this time value although if you choose a date that was more than 10 years ago it will take yf a while to download all the data\n",
    "data = yf.download(tickers,\"2015-01-01\")"
   ]
  },
  {
   "cell_type": "code",
   "execution_count": 32,
   "metadata": {},
   "outputs": [],
   "source": [
    "data.index = pd.to_datetime(data.index)"
   ]
  },
  {
   "cell_type": "code",
   "execution_count": 33,
   "metadata": {
    "id": "ZDYUotu3P3LN"
   },
   "outputs": [
    {
     "data": {
      "text/html": [
       "<div>\n",
       "<style scoped>\n",
       "    .dataframe tbody tr th:only-of-type {\n",
       "        vertical-align: middle;\n",
       "    }\n",
       "\n",
       "    .dataframe tbody tr th {\n",
       "        vertical-align: top;\n",
       "    }\n",
       "\n",
       "    .dataframe thead tr th {\n",
       "        text-align: left;\n",
       "    }\n",
       "\n",
       "    .dataframe thead tr:last-of-type th {\n",
       "        text-align: right;\n",
       "    }\n",
       "</style>\n",
       "<table border=\"1\" class=\"dataframe\">\n",
       "  <thead>\n",
       "    <tr>\n",
       "      <th></th>\n",
       "      <th colspan=\"10\" halign=\"left\">Adj Close</th>\n",
       "      <th>...</th>\n",
       "      <th colspan=\"10\" halign=\"left\">Volume</th>\n",
       "    </tr>\n",
       "    <tr>\n",
       "      <th></th>\n",
       "      <th>A</th>\n",
       "      <th>AAL</th>\n",
       "      <th>AAP</th>\n",
       "      <th>AAPL</th>\n",
       "      <th>ABBV</th>\n",
       "      <th>ABC</th>\n",
       "      <th>ABT</th>\n",
       "      <th>ACGL</th>\n",
       "      <th>ACN</th>\n",
       "      <th>ADBE</th>\n",
       "      <th>...</th>\n",
       "      <th>WYNN</th>\n",
       "      <th>XEL</th>\n",
       "      <th>XOM</th>\n",
       "      <th>XRAY</th>\n",
       "      <th>XYL</th>\n",
       "      <th>YUM</th>\n",
       "      <th>ZBH</th>\n",
       "      <th>ZBRA</th>\n",
       "      <th>ZION</th>\n",
       "      <th>ZTS</th>\n",
       "    </tr>\n",
       "    <tr>\n",
       "      <th>Date</th>\n",
       "      <th></th>\n",
       "      <th></th>\n",
       "      <th></th>\n",
       "      <th></th>\n",
       "      <th></th>\n",
       "      <th></th>\n",
       "      <th></th>\n",
       "      <th></th>\n",
       "      <th></th>\n",
       "      <th></th>\n",
       "      <th></th>\n",
       "      <th></th>\n",
       "      <th></th>\n",
       "      <th></th>\n",
       "      <th></th>\n",
       "      <th></th>\n",
       "      <th></th>\n",
       "      <th></th>\n",
       "      <th></th>\n",
       "      <th></th>\n",
       "      <th></th>\n",
       "    </tr>\n",
       "  </thead>\n",
       "  <tbody>\n",
       "    <tr>\n",
       "      <th>2023-08-21</th>\n",
       "      <td>118.860001</td>\n",
       "      <td>15.16</td>\n",
       "      <td>68.199997</td>\n",
       "      <td>175.839996</td>\n",
       "      <td>150.160004</td>\n",
       "      <td>180.979996</td>\n",
       "      <td>103.870003</td>\n",
       "      <td>74.949997</td>\n",
       "      <td>306.510010</td>\n",
       "      <td>520.469971</td>\n",
       "      <td>...</td>\n",
       "      <td>2026000</td>\n",
       "      <td>3132200</td>\n",
       "      <td>11092400</td>\n",
       "      <td>1121300</td>\n",
       "      <td>773700</td>\n",
       "      <td>1537100</td>\n",
       "      <td>1248100</td>\n",
       "      <td>373900</td>\n",
       "      <td>2127700</td>\n",
       "      <td>860200</td>\n",
       "    </tr>\n",
       "    <tr>\n",
       "      <th>2023-08-22</th>\n",
       "      <td>117.639999</td>\n",
       "      <td>14.83</td>\n",
       "      <td>67.339996</td>\n",
       "      <td>177.229996</td>\n",
       "      <td>148.240005</td>\n",
       "      <td>177.960007</td>\n",
       "      <td>105.150002</td>\n",
       "      <td>74.570000</td>\n",
       "      <td>308.899994</td>\n",
       "      <td>519.479980</td>\n",
       "      <td>...</td>\n",
       "      <td>2297500</td>\n",
       "      <td>3142600</td>\n",
       "      <td>10520800</td>\n",
       "      <td>1065100</td>\n",
       "      <td>833700</td>\n",
       "      <td>1207700</td>\n",
       "      <td>3648900</td>\n",
       "      <td>340500</td>\n",
       "      <td>3133000</td>\n",
       "      <td>1286400</td>\n",
       "    </tr>\n",
       "    <tr>\n",
       "      <th>2023-08-23</th>\n",
       "      <td>119.129997</td>\n",
       "      <td>14.78</td>\n",
       "      <td>69.440002</td>\n",
       "      <td>181.119995</td>\n",
       "      <td>147.080002</td>\n",
       "      <td>177.770004</td>\n",
       "      <td>105.129997</td>\n",
       "      <td>75.400002</td>\n",
       "      <td>315.339996</td>\n",
       "      <td>530.710022</td>\n",
       "      <td>...</td>\n",
       "      <td>1298600</td>\n",
       "      <td>8610700</td>\n",
       "      <td>11435600</td>\n",
       "      <td>643000</td>\n",
       "      <td>1012500</td>\n",
       "      <td>1441600</td>\n",
       "      <td>2755200</td>\n",
       "      <td>314800</td>\n",
       "      <td>2004600</td>\n",
       "      <td>1022900</td>\n",
       "    </tr>\n",
       "    <tr>\n",
       "      <th>2023-08-24</th>\n",
       "      <td>119.489998</td>\n",
       "      <td>14.57</td>\n",
       "      <td>67.910004</td>\n",
       "      <td>176.380005</td>\n",
       "      <td>146.630005</td>\n",
       "      <td>178.770004</td>\n",
       "      <td>103.750000</td>\n",
       "      <td>75.410004</td>\n",
       "      <td>314.140015</td>\n",
       "      <td>512.429993</td>\n",
       "      <td>...</td>\n",
       "      <td>1494000</td>\n",
       "      <td>5780900</td>\n",
       "      <td>10818500</td>\n",
       "      <td>807700</td>\n",
       "      <td>896800</td>\n",
       "      <td>1131100</td>\n",
       "      <td>1953000</td>\n",
       "      <td>246300</td>\n",
       "      <td>2555200</td>\n",
       "      <td>1210300</td>\n",
       "    </tr>\n",
       "    <tr>\n",
       "      <th>2023-08-25</th>\n",
       "      <td>119.680000</td>\n",
       "      <td>14.58</td>\n",
       "      <td>64.080002</td>\n",
       "      <td>178.610001</td>\n",
       "      <td>146.690002</td>\n",
       "      <td>179.479996</td>\n",
       "      <td>104.209999</td>\n",
       "      <td>74.620003</td>\n",
       "      <td>318.760010</td>\n",
       "      <td>525.059998</td>\n",
       "      <td>...</td>\n",
       "      <td>1706200</td>\n",
       "      <td>7705300</td>\n",
       "      <td>13578900</td>\n",
       "      <td>809300</td>\n",
       "      <td>973800</td>\n",
       "      <td>1097300</td>\n",
       "      <td>1456400</td>\n",
       "      <td>337300</td>\n",
       "      <td>1423500</td>\n",
       "      <td>879700</td>\n",
       "    </tr>\n",
       "  </tbody>\n",
       "</table>\n",
       "<p>5 rows × 3018 columns</p>\n",
       "</div>"
      ],
      "text/plain": [
       "             Adj Close                                                        \\\n",
       "                     A    AAL        AAP        AAPL        ABBV         ABC   \n",
       "Date                                                                           \n",
       "2023-08-21  118.860001  15.16  68.199997  175.839996  150.160004  180.979996   \n",
       "2023-08-22  117.639999  14.83  67.339996  177.229996  148.240005  177.960007   \n",
       "2023-08-23  119.129997  14.78  69.440002  181.119995  147.080002  177.770004   \n",
       "2023-08-24  119.489998  14.57  67.910004  176.380005  146.630005  178.770004   \n",
       "2023-08-25  119.680000  14.58  64.080002  178.610001  146.690002  179.479996   \n",
       "\n",
       "                                                           ...   Volume  \\\n",
       "                   ABT       ACGL         ACN        ADBE  ...     WYNN   \n",
       "Date                                                       ...            \n",
       "2023-08-21  103.870003  74.949997  306.510010  520.469971  ...  2026000   \n",
       "2023-08-22  105.150002  74.570000  308.899994  519.479980  ...  2297500   \n",
       "2023-08-23  105.129997  75.400002  315.339996  530.710022  ...  1298600   \n",
       "2023-08-24  103.750000  75.410004  314.140015  512.429993  ...  1494000   \n",
       "2023-08-25  104.209999  74.620003  318.760010  525.059998  ...  1706200   \n",
       "\n",
       "                                                                           \\\n",
       "                XEL       XOM     XRAY      XYL      YUM      ZBH    ZBRA   \n",
       "Date                                                                        \n",
       "2023-08-21  3132200  11092400  1121300   773700  1537100  1248100  373900   \n",
       "2023-08-22  3142600  10520800  1065100   833700  1207700  3648900  340500   \n",
       "2023-08-23  8610700  11435600   643000  1012500  1441600  2755200  314800   \n",
       "2023-08-24  5780900  10818500   807700   896800  1131100  1953000  246300   \n",
       "2023-08-25  7705300  13578900   809300   973800  1097300  1456400  337300   \n",
       "\n",
       "                              \n",
       "               ZION      ZTS  \n",
       "Date                          \n",
       "2023-08-21  2127700   860200  \n",
       "2023-08-22  3133000  1286400  \n",
       "2023-08-23  2004600  1022900  \n",
       "2023-08-24  2555200  1210300  \n",
       "2023-08-25  1423500   879700  \n",
       "\n",
       "[5 rows x 3018 columns]"
      ]
     },
     "execution_count": 33,
     "metadata": {},
     "output_type": "execute_result"
    }
   ],
   "source": [
    "# running these commands can help to understand the shape of the dataframe object data\n",
    "data.tail()\n"
   ]
  },
  {
   "cell_type": "code",
   "execution_count": 35,
   "metadata": {},
   "outputs": [
    {
     "data": {
      "text/plain": [
       "Adj Close  A       float64\n",
       "           AAL     float64\n",
       "           AAP     float64\n",
       "           AAPL    float64\n",
       "           ABBV    float64\n",
       "                    ...   \n",
       "Volume     YUM       int64\n",
       "           ZBH       int64\n",
       "           ZBRA      int64\n",
       "           ZION      int64\n",
       "           ZTS       int64\n",
       "Length: 3018, dtype: object"
      ]
     },
     "execution_count": 35,
     "metadata": {},
     "output_type": "execute_result"
    }
   ],
   "source": [
    "data.dtypes"
   ]
  },
  {
   "cell_type": "code",
   "execution_count": 12,
   "metadata": {},
   "outputs": [
    {
     "data": {
      "text/plain": [
       "MultiIndex([('Adj Close', 'A'),\n",
       "            (    'Close', 'A'),\n",
       "            (     'High', 'A'),\n",
       "            (      'Low', 'A'),\n",
       "            (     'Open', 'A'),\n",
       "            (   'Volume', 'A')],\n",
       "           )"
      ]
     },
     "execution_count": 12,
     "metadata": {},
     "output_type": "execute_result"
    }
   ],
   "source": [
    "data.columns[[0, 503, 1006, 1509, 2012, 2515]]"
   ]
  },
  {
   "cell_type": "code",
   "execution_count": 19,
   "metadata": {},
   "outputs": [
    {
     "data": {
      "text/html": [
       "<div>\n",
       "<style scoped>\n",
       "    .dataframe tbody tr th:only-of-type {\n",
       "        vertical-align: middle;\n",
       "    }\n",
       "\n",
       "    .dataframe tbody tr th {\n",
       "        vertical-align: top;\n",
       "    }\n",
       "\n",
       "    .dataframe thead tr th {\n",
       "        text-align: left;\n",
       "    }\n",
       "\n",
       "    .dataframe thead tr:last-of-type th {\n",
       "        text-align: right;\n",
       "    }\n",
       "</style>\n",
       "<table border=\"1\" class=\"dataframe\">\n",
       "  <thead>\n",
       "    <tr>\n",
       "      <th></th>\n",
       "      <th>Close</th>\n",
       "      <th>Open</th>\n",
       "    </tr>\n",
       "    <tr>\n",
       "      <th></th>\n",
       "      <th>A</th>\n",
       "      <th>A</th>\n",
       "    </tr>\n",
       "    <tr>\n",
       "      <th>Date</th>\n",
       "      <th></th>\n",
       "      <th></th>\n",
       "    </tr>\n",
       "  </thead>\n",
       "  <tbody>\n",
       "    <tr>\n",
       "      <th>2015-01-02</th>\n",
       "      <td>40.560001</td>\n",
       "      <td>41.180000</td>\n",
       "    </tr>\n",
       "    <tr>\n",
       "      <th>2015-01-05</th>\n",
       "      <td>39.799999</td>\n",
       "      <td>40.320000</td>\n",
       "    </tr>\n",
       "    <tr>\n",
       "      <th>2015-01-06</th>\n",
       "      <td>39.180000</td>\n",
       "      <td>39.810001</td>\n",
       "    </tr>\n",
       "    <tr>\n",
       "      <th>2015-01-07</th>\n",
       "      <td>39.700001</td>\n",
       "      <td>39.520000</td>\n",
       "    </tr>\n",
       "    <tr>\n",
       "      <th>2015-01-08</th>\n",
       "      <td>40.889999</td>\n",
       "      <td>40.240002</td>\n",
       "    </tr>\n",
       "    <tr>\n",
       "      <th>...</th>\n",
       "      <td>...</td>\n",
       "      <td>...</td>\n",
       "    </tr>\n",
       "    <tr>\n",
       "      <th>2023-08-21</th>\n",
       "      <td>118.860001</td>\n",
       "      <td>119.500000</td>\n",
       "    </tr>\n",
       "    <tr>\n",
       "      <th>2023-08-22</th>\n",
       "      <td>117.639999</td>\n",
       "      <td>117.849998</td>\n",
       "    </tr>\n",
       "    <tr>\n",
       "      <th>2023-08-23</th>\n",
       "      <td>119.129997</td>\n",
       "      <td>118.510002</td>\n",
       "    </tr>\n",
       "    <tr>\n",
       "      <th>2023-08-24</th>\n",
       "      <td>119.489998</td>\n",
       "      <td>119.360001</td>\n",
       "    </tr>\n",
       "    <tr>\n",
       "      <th>2023-08-25</th>\n",
       "      <td>119.680000</td>\n",
       "      <td>119.800003</td>\n",
       "    </tr>\n",
       "  </tbody>\n",
       "</table>\n",
       "<p>2177 rows × 2 columns</p>\n",
       "</div>"
      ],
      "text/plain": [
       "                 Close        Open\n",
       "                     A           A\n",
       "Date                              \n",
       "2015-01-02   40.560001   41.180000\n",
       "2015-01-05   39.799999   40.320000\n",
       "2015-01-06   39.180000   39.810001\n",
       "2015-01-07   39.700001   39.520000\n",
       "2015-01-08   40.889999   40.240002\n",
       "...                ...         ...\n",
       "2023-08-21  118.860001  119.500000\n",
       "2023-08-22  117.639999  117.849998\n",
       "2023-08-23  119.129997  118.510002\n",
       "2023-08-24  119.489998  119.360001\n",
       "2023-08-25  119.680000  119.800003\n",
       "\n",
       "[2177 rows x 2 columns]"
      ]
     },
     "execution_count": 19,
     "metadata": {},
     "output_type": "execute_result"
    }
   ],
   "source": [
    "data.loc[:,[(   'Close', 'A'), (     'Open', 'A')]]"
   ]
  },
  {
   "cell_type": "code",
   "execution_count": 4,
   "metadata": {
    "id": "4YTa8FoWNoCE"
   },
   "outputs": [],
   "source": [
    "def data_dropna():\n",
    "  #  note the dataframe below has lots of NaN values because not all stocks were listed from 2016\n",
    "  return data.dropna()\n",
    "\n",
    "def data_enter_team_name():\n",
    "  ## ENTER YOUR DATA CLEANING CODE HERE. \n",
    "  ## this should output all data you need for your strategy\n",
    "  return data.dropna()"
   ]
  },
  {
   "cell_type": "code",
   "execution_count": 5,
   "metadata": {
    "id": "rWCLLAp-MIkp"
   },
   "outputs": [],
   "source": [
    "def buyandhold(start_date, end_date):\n",
    "  strat = pd.DataFrame(data = np.ones([len(df),len(df.columns)])/len(df.columns), \n",
    "                       index = df.index)\n",
    "  \n",
    "  return strat\n",
    "\n",
    "def strat_insert_team_name(start_date, end_date): # enter youre team name!!!\n",
    "  # insert your strategy here!!!!!\n",
    "  # note this function shoudl return a dataframe of weights with columns representing each stock\n",
    "  # and index representing the same datetime index as the data used\n",
    "  strat = pd.DataFrame(data = np.zeros([len(df),len(df.columns)]), \n",
    "                       index = df.index)\n",
    "  return strat"
   ]
  },
  {
   "cell_type": "code",
   "execution_count": 6,
   "metadata": {
    "id": "BlcIuHa6FPHA"
   },
   "outputs": [],
   "source": [
    "def strategy(start_date, end_date, \n",
    "                  strat_func=buyandhold, data_func=data_dropna, \n",
    "                  fig_strat=True, risk_free_rate = 0.001):\n",
    "  global df \n",
    "  df = data_func()[\"Adj Close\"][start_date: end_date]\n",
    "  return_df = np.array(df.pct_change())\n",
    "  strat_df = pd.DataFrame(index = df.index)\n",
    "  strat_df[\"daily returns\"] = (return_df * strat_func(start_date, end_date).shift(1)).sum(axis=1)\n",
    "  strat_df[\"cumulative % returns\"] = ((strat_df[\"daily returns\"]+1).cumprod() - 1) * 100\n",
    "  \n",
    "  sharpe  = 0.01*((strat_df[\"cumulative % returns\"][-1]/100 - \n",
    "                    len(strat_df) * risk_free_rate) /\n",
    "                    strat_df[\"daily returns\"].std())\n",
    "  if fig_strat:\n",
    "    plt.figure()\n",
    "    plt.title(\"Strategy Backtest from \"+ start_date+\" to \"+end_date)\n",
    "    plt.plot(strat_df[\"cumulative % returns\"])\n",
    "    plt.plot(strat_df[\"cumulative % returns\"].rolling(25).mean())\n",
    "    plt.show()\n",
    "  \n",
    "  return strat_df, sharpe\n",
    " "
   ]
  },
  {
   "cell_type": "code",
   "execution_count": 90,
   "metadata": {},
   "outputs": [],
   "source": [
    "def momentum_strat(start_date, end_date):\n",
    "    global df\n",
    "    df = data.loc[start_date: end_date, ('Adj Close', 'A'):('Adj Close', 'ZTS')]\n",
    "    momentum = df.pct_change(len(data.loc[start_date:end_date]) - 1)\n",
    "\n",
    "    strat = momentum / (503*abs(momentum))\n",
    "    return strat.iloc[-1, :]\n",
    "    "
   ]
  },
  {
   "cell_type": "code",
   "execution_count": 89,
   "metadata": {},
   "outputs": [
    {
     "data": {
      "text/plain": [
       "Adj Close  A      -0.001988\n",
       "           AAL     0.001988\n",
       "           AAP    -0.001988\n",
       "           AAPL    0.001988\n",
       "           ABBV   -0.001988\n",
       "                     ...   \n",
       "           YUM     0.001988\n",
       "           ZBH    -0.001988\n",
       "           ZBRA    0.001988\n",
       "           ZION   -0.001988\n",
       "           ZTS     0.001988\n",
       "Name: 2023-03-20 00:00:00, Length: 503, dtype: float64"
      ]
     },
     "execution_count": 89,
     "metadata": {},
     "output_type": "execute_result"
    }
   ],
   "source": [
    "momentum_strat(\"2023-01-01\", \"2023-03-20\")"
   ]
  },
  {
   "cell_type": "code",
   "execution_count": null,
   "metadata": {},
   "outputs": [],
   "source": [
    "def relative_momentum_strat(start_date, end_date, p, q, t):\n",
    "    strat = pd.DataFrame(data = np.zeros([len(df),len(df.columns)])/len(df.columns), \n",
    "                       index = df.index)\n",
    "    return_strat = df.pct_change(p)\n",
    "          \n",
    "    \n",
    "    return strat\n"
   ]
  },
  {
   "cell_type": "code",
   "execution_count": null,
   "metadata": {},
   "outputs": [],
   "source": [
    "def strategy_2(start_date, end_date)"
   ]
  },
  {
   "cell_type": "code",
   "execution_count": 7,
   "metadata": {
    "colab": {
     "base_uri": "https://localhost:8080/",
     "height": 541
    },
    "id": "s6R1BBvNNHmY",
    "outputId": "19001069-8e7a-4958-b86c-d11b71ce3292"
   },
   "outputs": [
    {
     "data": {
      "image/png": "[encoded data removed]",
      "text/plain": [
       "<Figure size 432x288 with 1 Axes>"
      ]
     },
     "metadata": {
      "needs_background": "light"
     },
     "output_type": "display_data"
    },
    {
     "data": {
      "text/plain": [
       "(            daily returns  cumulative % returns\n",
       " Date                                           \n",
       " 2022-12-15       0.000000              0.000000\n",
       " 2022-12-16      -0.011645             -1.164468\n",
       " 2022-12-19      -0.008989             -2.052909\n",
       " 2022-12-20       0.001137             -1.941547\n",
       " 2022-12-21       0.015255             -0.445645\n",
       " ...                   ...                   ...\n",
       " 2023-05-08      -0.001881              1.652814\n",
       " 2023-05-09      -0.004285              1.217249\n",
       " 2023-05-10      -0.000656              1.150819\n",
       " 2023-05-11      -0.005069              0.638134\n",
       " 2023-05-12       0.000217              0.659992\n",
       " \n",
       " [102 rows x 2 columns],\n",
       " -0.0925241595385432)"
      ]
     },
     "execution_count": 7,
     "metadata": {},
     "output_type": "execute_result"
    }
   ],
   "source": [
    "strategy(\"2022-01-01\", \"2023-06-06\") # example for buy and hold strategy after removing all dates with NaN values"
   ]
  },
  {
   "cell_type": "code",
   "execution_count": null,
   "metadata": {
    "colab": {
     "base_uri": "https://localhost:8080/",
     "height": 576
    },
    "id": "GcLkGdM4OFQ9",
    "outputId": "ae3dd10d-5547-44bd-b96f-3b0191b4b3ea"
   },
   "outputs": [
    {
     "name": "stderr",
     "output_type": "stream",
     "text": [
      "/usr/local/lib/python3.7/dist-packages/ipykernel_launcher.py:13: RuntimeWarning: divide by zero encountered in double_scalars\n",
      "  del sys.path[0]\n"
     ]
    },
    {
     "data": {
      "image/png": "[encoded data removed]",
      "text/plain": [
       "<Figure size 432x288 with 1 Axes>"
      ]
     },
     "metadata": {
      "needs_background": "light"
     },
     "output_type": "display_data"
    },
    {
     "data": {
      "text/plain": [
       "(            daily returns  cumulative % returns\n",
       " Date                                           \n",
       " 2022-01-19            0.0                   0.0\n",
       " 2022-01-20            0.0                   0.0\n",
       " 2022-01-21            0.0                   0.0\n",
       " 2022-01-24            0.0                   0.0\n",
       " 2022-01-25            0.0                   0.0\n",
       " ...                   ...                   ...\n",
       " 2022-10-21            0.0                   0.0\n",
       " 2022-10-24            0.0                   0.0\n",
       " 2022-10-25            0.0                   0.0\n",
       " 2022-10-26            0.0                   0.0\n",
       " 2022-10-27            0.0                   0.0\n",
       " \n",
       " [196 rows x 2 columns], -inf)"
      ]
     },
     "execution_count": 18,
     "metadata": {},
     "output_type": "execute_result"
    }
   ],
   "source": [
    " # use this cell to backtest your own strategy. make sure to change the function names\n",
    "strategy(\"2022-01-01\", \"2023-06-06\", strat_func = strat_insert_team_name, data_func = data_enter_team_name)"
   ]
  }
 ],
 "metadata": {
  "colab": {
   "collapsed_sections": [],
   "provenance": []
  },
  "kernelspec": {
   "display_name": "Python 3 (ipykernel)",
   "language": "python",
   "name": "python3"
  },
  "language_info": {
   "codemirror_mode": {
    "name": "ipython",
    "version": 3
   },
   "file_extension": ".py",
   "mimetype": "text/x-python",
   "name": "python",
   "nbconvert_exporter": "python",
   "pygments_lexer": "ipython3",
   "version": "3.9.15"
  }
 },
 "nbformat": 4,
 "nbformat_minor": 1
}
